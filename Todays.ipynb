{
  "nbformat": 4,
  "nbformat_minor": 0,
  "metadata": {
    "colab": {
      "provenance": []
    },
    "kernelspec": {
      "name": "python3",
      "display_name": "Python 3"
    },
    "language_info": {
      "name": "python"
    }
  },
  "cells": [
    {
      "cell_type": "code",
      "execution_count": 1,
      "metadata": {
        "id": "_G1Pr6z35xBg"
      },
      "outputs": [],
      "source": [
        "import numpy as np\n",
        "import pandas as pd"
      ]
    },
    {
      "cell_type": "code",
      "source": [
        "d1=pd.read_csv('/content/CSE.csv')\n",
        "d2=pd.read_csv('/content/IT.csv')\n",
        "d3=pd.read_csv('/content/STUDENT.CSV')\n",
        "print(d1)\n",
        "print(d2)\n",
        "print(d3)"
      ],
      "metadata": {
        "colab": {
          "base_uri": "https://localhost:8080/"
        },
        "id": "dDd9SKK26WGX",
        "outputId": "ea937478-f8fb-4927-d79e-54a5944851a6"
      },
      "execution_count": 23,
      "outputs": [
        {
          "output_type": "stream",
          "name": "stdout",
          "text": [
            "     Regd.No    CN   DAA   AFL    OE  Professional Elective\n",
            "0   Y20CS001  10.0  15.0  11.0  16.0                   12.0\n",
            "1   Y20CS002  16.0  14.0  15.0  10.0                   13.0\n",
            "2   Y20CS003  15.0  12.0  32.0  12.0                    NaN\n",
            "3   Y20CS004  12.0   NaN  12.0   NaN                   17.0\n",
            "4   Y20CS005  14.0  16.0  13.0  25.0                    6.0\n",
            "5   Y20CS006   9.0  17.0   9.0  14.0                   23.0\n",
            "6   Y20CS007  13.0   3.0   NaN  17.0                   16.0\n",
            "7   Y20CS008  20.0  12.0  15.0  16.0                   11.0\n",
            "8   Y20CS009  17.0  14.0  12.0  10.0                   12.0\n",
            "9   Y20CS010   5.0  16.0  14.0   9.0                   15.0\n",
            "10  Y20CS011   NaN  13.0   9.0  16.0                   14.0\n",
            "11  Y20CS012  12.0  15.0  13.0  13.0                    NaN\n",
            "12  Y20CS013  13.0  24.0  10.0  17.0                   10.0\n",
            "13  Y20CS014   9.0  12.0  15.0  14.0                   16.0\n",
            "14  Y20CS015  17.0  14.0   8.0  13.0                   13.0\n",
            "     Regd.No   AFL    CN   DAA     PE\n",
            "0   Y20IT001  15.0  12.0  14.0   12.0\n",
            "1   Y20IT002  13.0  13.0  15.0   15.0\n",
            "2   Y20IT003  12.0  14.0  16.0   14.0\n",
            "3   Y20IT004  14.0   NaN  17.0   16.0\n",
            "4   Y20IT005  16.0  18.0  13.0   18.0\n",
            "5   Y20IT006   9.0  15.0  12.0   17.0\n",
            "6   Y20IT007  10.0  22.0  10.0    3.0\n",
            "7   Y20IT008  11.0  12.0  11.0  125.0\n",
            "8   Y20IT009  13.0  16.0  16.0    NaN\n",
            "9   Y20IT010  12.0  14.0   NaN    8.0\n",
            "10  Y20IT011  14.0  17.0  14.0   14.0\n",
            "11  Y20IT012  15.0  13.0  17.0   17.0\n",
            "12  Y20IT013   NaN  11.0  13.0   11.0\n",
            "13  Y20IT014  12.0  10.0  12.0   13.0\n",
            "14  Y20IT015  16.0  12.0  15.0   16.0\n",
            "     Regd.No                                       Name Sex  Course Branch  \\\n",
            "0   Y20CS001      ADAPA HEMANTH VENKATA SAI PAVAN KUMAR   M  B.Tech    CSE   \n",
            "1   Y20CS002                     ALAPARTHI VIVEK MADHAV   F  B.Tech    CSE   \n",
            "2   Y20CS003                                ALIFA SHAIK   F  B.Tech    CSE   \n",
            "3   Y20CS004                             ALLA NEEHARIKA   M  B.Tech    CSE   \n",
            "4   Y20CS005                                   AVYAKTHA   F  B.Tech    CSE   \n",
            "5   Y20CS006                             AMBATI MEGHANA   M  B.Tech    CSE   \n",
            "6   Y20CS007                            ANCHA PRABANDHA   M  B.Tech    CSE   \n",
            "7   Y20CS008                            APPANA HEMA SRI   F  B.Tech    CSE   \n",
            "8   Y20CS009                    ARIKATLA VIJAYA LAKSHMI   F  B.Tech    CSE   \n",
            "9   Y20CS010                       AVULA CHAYA PRIYANKA   M  B.Tech    CSE   \n",
            "10  Y20CS011                       AVULAPATI ANIL KUMAR   F  B.Tech    CSE   \n",
            "11  Y20CS012                             BALAGA LAVANYA   M  B.Tech    CSE   \n",
            "12  Y20CS013                            BANDLA BHAVITHA   F  B.Tech    CSE   \n",
            "13  Y20CS014                              BEENA VASANTH   F  B.Tech    CSE   \n",
            "14  Y20CS015                             BELLAM ABHINAY   M  B.Tech    CSE   \n",
            "15  Y20IT001                           ADAPALA YAVANIKA   M  B.Tech     IT   \n",
            "16  Y20IT002                          AMBATIPUDI SWETHA   M  B.Tech     IT   \n",
            "17  Y20IT003                               ARE SRILATHA   F  B.Tech     IT   \n",
            "18  Y20IT004                          ARVAPALLI SUBHASH   F  B.Tech     IT   \n",
            "19  Y20IT005                           ATLA RAGHAVENDRA   M  B.Tech     IT   \n",
            "20  Y20IT006                          AVULA GOWTHAM SAI   M  B.Tech     IT   \n",
            "21  Y20IT007  BALABHADRA LAKSHMI VENKATA HANUMA ABHIGNA   F  B.Tech     IT   \n",
            "22  Y20IT008                BANAVATHU LAKSHMIDURGA NAIK   F  B.Tech     IT   \n",
            "23  Y20IT009                BATCHU VENKATA VIBHAS GUPTA   F  B.Tech     IT   \n",
            "24  Y20IT010                           BATCHU YASASWINI   F  B.Tech     IT   \n",
            "25  Y20IT011                        BATHINI BALAKRISHNA   M  B.Tech     IT   \n",
            "26  Y20IT012                        BATTINENI HIMAVANTH   F  B.Tech     IT   \n",
            "27  Y20IT013                     BEERAKA REVANTH NAGESH   M  B.Tech     IT   \n",
            "28  Y20IT014                            BEZAWADA LOKESH   F  B.Tech     IT   \n",
            "29  Y20IT015                             BITRA TEJA SRI   M  B.Tech     IT   \n",
            "\n",
            "           Address  EAMCET RANK  \n",
            "0           GUNTUR         2000  \n",
            "1           GUNTUR         1900  \n",
            "2           GUNTUR         3126  \n",
            "3           TENALI         2500  \n",
            "4        VINUKONDA         8000  \n",
            "5     NARASARAOPET         4012  \n",
            "6           GUNTUR         5001  \n",
            "7           GUNTUR         1201  \n",
            "8        VINUKONDA        17000  \n",
            "9       VIJAYAWADA         2600  \n",
            "10          TENALI         3201  \n",
            "11          GUNTUR         1704  \n",
            "12    NARASARAOPET         3456  \n",
            "13      VIJAYAWADA         1965  \n",
            "14       VINUKONDA        45000  \n",
            "15  CHILAKALURIPET        10000  \n",
            "16          GUNTUR         9875  \n",
            "17          GUNTUR        12563  \n",
            "18    NARASARAOPET        22232  \n",
            "19  CHILAKALURIPET        13000  \n",
            "20          TENALI         8963  \n",
            "21      VIJAYAWADA        15000  \n",
            "22       VINUKONDA        56000  \n",
            "23    NARASARAOPET        17006  \n",
            "24          TENALI        21006  \n",
            "25  CHILAKALURIPET        19007  \n",
            "26          GUNTUR        36000  \n",
            "27      VIJAYAWADA         5000  \n",
            "28          TENALI        19321  \n",
            "29       VINUKONDA        19000  \n"
          ]
        }
      ]
    },
    {
      "cell_type": "markdown",
      "source": [
        "1.\tCombine the CSE & IT data and display the data"
      ],
      "metadata": {
        "id": "FarGMbM6Dti_"
      }
    },
    {
      "cell_type": "code",
      "source": [
        "d1.rename(columns = {'Professional Elective':'PE'}, inplace = True)\n",
        "d_new=d1.merge(d2,how ='outer')\n",
        "print(d_new)\n"
      ],
      "metadata": {
        "colab": {
          "base_uri": "https://localhost:8080/"
        },
        "id": "NBnO2kXACEzb",
        "outputId": "79e88e70-87f5-4d78-b478-5fb2be61b97c"
      },
      "execution_count": 36,
      "outputs": [
        {
          "output_type": "stream",
          "name": "stdout",
          "text": [
            "     Regd.No    CN   DAA   AFL    OE     PE\n",
            "0   Y20CS001  10.0  15.0  11.0  16.0   12.0\n",
            "1   Y20CS002  16.0  14.0  15.0  10.0   13.0\n",
            "2   Y20CS003  15.0  12.0  32.0  12.0    NaN\n",
            "3   Y20CS004  12.0   NaN  12.0   NaN   17.0\n",
            "4   Y20CS005  14.0  16.0  13.0  25.0    6.0\n",
            "5   Y20CS006   9.0  17.0   9.0  14.0   23.0\n",
            "6   Y20CS007  13.0   3.0   NaN  17.0   16.0\n",
            "7   Y20CS008  20.0  12.0  15.0  16.0   11.0\n",
            "8   Y20CS009  17.0  14.0  12.0  10.0   12.0\n",
            "9   Y20CS010   5.0  16.0  14.0   9.0   15.0\n",
            "10  Y20CS011   NaN  13.0   9.0  16.0   14.0\n",
            "11  Y20CS012  12.0  15.0  13.0  13.0    NaN\n",
            "12  Y20CS013  13.0  24.0  10.0  17.0   10.0\n",
            "13  Y20CS014   9.0  12.0  15.0  14.0   16.0\n",
            "14  Y20CS015  17.0  14.0   8.0  13.0   13.0\n",
            "15  Y20IT001  12.0  14.0  15.0   NaN   12.0\n",
            "16  Y20IT002  13.0  15.0  13.0   NaN   15.0\n",
            "17  Y20IT003  14.0  16.0  12.0   NaN   14.0\n",
            "18  Y20IT004   NaN  17.0  14.0   NaN   16.0\n",
            "19  Y20IT005  18.0  13.0  16.0   NaN   18.0\n",
            "20  Y20IT006  15.0  12.0   9.0   NaN   17.0\n",
            "21  Y20IT007  22.0  10.0  10.0   NaN    3.0\n",
            "22  Y20IT008  12.0  11.0  11.0   NaN  125.0\n",
            "23  Y20IT009  16.0  16.0  13.0   NaN    NaN\n",
            "24  Y20IT010  14.0   NaN  12.0   NaN    8.0\n",
            "25  Y20IT011  17.0  14.0  14.0   NaN   14.0\n",
            "26  Y20IT012  13.0  17.0  15.0   NaN   17.0\n",
            "27  Y20IT013  11.0  13.0   NaN   NaN   11.0\n",
            "28  Y20IT014  10.0  12.0  12.0   NaN   13.0\n",
            "29  Y20IT015  12.0  15.0  16.0   NaN   16.0\n"
          ]
        }
      ]
    },
    {
      "cell_type": "markdown",
      "source": [
        "2.\tDisplay all CSE students’ marks along with personal information."
      ],
      "metadata": {
        "id": "wdqdMC77D2E4"
      }
    },
    {
      "cell_type": "code",
      "source": [
        "d_new2=d1.merge(d3)\n",
        "print(d_new2)"
      ],
      "metadata": {
        "colab": {
          "base_uri": "https://localhost:8080/"
        },
        "id": "quW8r-CzDXHJ",
        "outputId": "93383104-3a98-4408-90ac-a1d0d18ab004"
      },
      "execution_count": 37,
      "outputs": [
        {
          "output_type": "stream",
          "name": "stdout",
          "text": [
            "     Regd.No    CN   DAA   AFL    OE    PE  \\\n",
            "0   Y20CS001  10.0  15.0  11.0  16.0  12.0   \n",
            "1   Y20CS002  16.0  14.0  15.0  10.0  13.0   \n",
            "2   Y20CS003  15.0  12.0  32.0  12.0   NaN   \n",
            "3   Y20CS004  12.0   NaN  12.0   NaN  17.0   \n",
            "4   Y20CS005  14.0  16.0  13.0  25.0   6.0   \n",
            "5   Y20CS006   9.0  17.0   9.0  14.0  23.0   \n",
            "6   Y20CS007  13.0   3.0   NaN  17.0  16.0   \n",
            "7   Y20CS008  20.0  12.0  15.0  16.0  11.0   \n",
            "8   Y20CS009  17.0  14.0  12.0  10.0  12.0   \n",
            "9   Y20CS010   5.0  16.0  14.0   9.0  15.0   \n",
            "10  Y20CS011   NaN  13.0   9.0  16.0  14.0   \n",
            "11  Y20CS012  12.0  15.0  13.0  13.0   NaN   \n",
            "12  Y20CS013  13.0  24.0  10.0  17.0  10.0   \n",
            "13  Y20CS014   9.0  12.0  15.0  14.0  16.0   \n",
            "14  Y20CS015  17.0  14.0   8.0  13.0  13.0   \n",
            "\n",
            "                                     Name Sex  Course Branch       Address  \\\n",
            "0   ADAPA HEMANTH VENKATA SAI PAVAN KUMAR   M  B.Tech    CSE        GUNTUR   \n",
            "1                  ALAPARTHI VIVEK MADHAV   F  B.Tech    CSE        GUNTUR   \n",
            "2                             ALIFA SHAIK   F  B.Tech    CSE        GUNTUR   \n",
            "3                          ALLA NEEHARIKA   M  B.Tech    CSE        TENALI   \n",
            "4                                AVYAKTHA   F  B.Tech    CSE     VINUKONDA   \n",
            "5                          AMBATI MEGHANA   M  B.Tech    CSE  NARASARAOPET   \n",
            "6                         ANCHA PRABANDHA   M  B.Tech    CSE        GUNTUR   \n",
            "7                         APPANA HEMA SRI   F  B.Tech    CSE        GUNTUR   \n",
            "8                 ARIKATLA VIJAYA LAKSHMI   F  B.Tech    CSE     VINUKONDA   \n",
            "9                    AVULA CHAYA PRIYANKA   M  B.Tech    CSE    VIJAYAWADA   \n",
            "10                   AVULAPATI ANIL KUMAR   F  B.Tech    CSE        TENALI   \n",
            "11                         BALAGA LAVANYA   M  B.Tech    CSE        GUNTUR   \n",
            "12                        BANDLA BHAVITHA   F  B.Tech    CSE  NARASARAOPET   \n",
            "13                          BEENA VASANTH   F  B.Tech    CSE    VIJAYAWADA   \n",
            "14                         BELLAM ABHINAY   M  B.Tech    CSE     VINUKONDA   \n",
            "\n",
            "    EAMCET RANK  \n",
            "0          2000  \n",
            "1          1900  \n",
            "2          3126  \n",
            "3          2500  \n",
            "4          8000  \n",
            "5          4012  \n",
            "6          5001  \n",
            "7          1201  \n",
            "8         17000  \n",
            "9          2600  \n",
            "10         3201  \n",
            "11         1704  \n",
            "12         3456  \n",
            "13         1965  \n",
            "14        45000  \n"
          ]
        }
      ]
    },
    {
      "cell_type": "markdown",
      "source": [
        "3.\tPrint all students Regd.No, Name and professional elective."
      ],
      "metadata": {
        "id": "fa5z9gKfEM3b"
      }
    },
    {
      "cell_type": "code",
      "source": [
        "d_new3=d_new.merge(d3)\n",
        "print(d_new3.filter(['Regd.No','Name','PE']))"
      ],
      "metadata": {
        "colab": {
          "base_uri": "https://localhost:8080/"
        },
        "id": "BqFjKQhGELXW",
        "outputId": "8f6a5c82-0f9e-4ce7-d60f-ad1835230c6f"
      },
      "execution_count": 40,
      "outputs": [
        {
          "output_type": "stream",
          "name": "stdout",
          "text": [
            "     Regd.No                                       Name     PE\n",
            "0   Y20CS001      ADAPA HEMANTH VENKATA SAI PAVAN KUMAR   12.0\n",
            "1   Y20CS002                     ALAPARTHI VIVEK MADHAV   13.0\n",
            "2   Y20CS003                                ALIFA SHAIK    NaN\n",
            "3   Y20CS004                             ALLA NEEHARIKA   17.0\n",
            "4   Y20CS005                                   AVYAKTHA    6.0\n",
            "5   Y20CS006                             AMBATI MEGHANA   23.0\n",
            "6   Y20CS007                            ANCHA PRABANDHA   16.0\n",
            "7   Y20CS008                            APPANA HEMA SRI   11.0\n",
            "8   Y20CS009                    ARIKATLA VIJAYA LAKSHMI   12.0\n",
            "9   Y20CS010                       AVULA CHAYA PRIYANKA   15.0\n",
            "10  Y20CS011                       AVULAPATI ANIL KUMAR   14.0\n",
            "11  Y20CS012                             BALAGA LAVANYA    NaN\n",
            "12  Y20CS013                            BANDLA BHAVITHA   10.0\n",
            "13  Y20CS014                              BEENA VASANTH   16.0\n",
            "14  Y20CS015                             BELLAM ABHINAY   13.0\n",
            "15  Y20IT001                           ADAPALA YAVANIKA   12.0\n",
            "16  Y20IT002                          AMBATIPUDI SWETHA   15.0\n",
            "17  Y20IT003                               ARE SRILATHA   14.0\n",
            "18  Y20IT004                          ARVAPALLI SUBHASH   16.0\n",
            "19  Y20IT005                           ATLA RAGHAVENDRA   18.0\n",
            "20  Y20IT006                          AVULA GOWTHAM SAI   17.0\n",
            "21  Y20IT007  BALABHADRA LAKSHMI VENKATA HANUMA ABHIGNA    3.0\n",
            "22  Y20IT008                BANAVATHU LAKSHMIDURGA NAIK  125.0\n",
            "23  Y20IT009                BATCHU VENKATA VIBHAS GUPTA    NaN\n",
            "24  Y20IT010                           BATCHU YASASWINI    8.0\n",
            "25  Y20IT011                        BATHINI BALAKRISHNA   14.0\n",
            "26  Y20IT012                        BATTINENI HIMAVANTH   17.0\n",
            "27  Y20IT013                     BEERAKA REVANTH NAGESH   11.0\n",
            "28  Y20IT014                            BEZAWADA LOKESH   13.0\n",
            "29  Y20IT015                             BITRA TEJA SRI   16.0\n"
          ]
        }
      ]
    },
    {
      "cell_type": "markdown",
      "source": [
        "4.\tIdentify the students whose DAA marks are >18."
      ],
      "metadata": {
        "id": "jcPSXKkFE0pK"
      }
    },
    {
      "cell_type": "code",
      "source": [
        "d_new3[d_new3['DAA']>18]"
      ],
      "metadata": {
        "colab": {
          "base_uri": "https://localhost:8080/",
          "height": 81
        },
        "id": "CWSb0B22E3d2",
        "outputId": "0e160e37-716e-4ff0-e725-fd42881ad4b7"
      },
      "execution_count": 41,
      "outputs": [
        {
          "output_type": "execute_result",
          "data": {
            "text/plain": [
              "     Regd.No    CN   DAA   AFL    OE    PE             Name Sex  Course  \\\n",
              "12  Y20CS013  13.0  24.0  10.0  17.0  10.0  BANDLA BHAVITHA   F  B.Tech   \n",
              "\n",
              "   Branch       Address  EAMCET RANK  \n",
              "12    CSE  NARASARAOPET         3456  "
            ],
            "text/html": [
              "\n",
              "  <div id=\"df-e6e528e1-bdc7-483e-ab96-3fdd6991ac5d\">\n",
              "    <div class=\"colab-df-container\">\n",
              "      <div>\n",
              "<style scoped>\n",
              "    .dataframe tbody tr th:only-of-type {\n",
              "        vertical-align: middle;\n",
              "    }\n",
              "\n",
              "    .dataframe tbody tr th {\n",
              "        vertical-align: top;\n",
              "    }\n",
              "\n",
              "    .dataframe thead th {\n",
              "        text-align: right;\n",
              "    }\n",
              "</style>\n",
              "<table border=\"1\" class=\"dataframe\">\n",
              "  <thead>\n",
              "    <tr style=\"text-align: right;\">\n",
              "      <th></th>\n",
              "      <th>Regd.No</th>\n",
              "      <th>CN</th>\n",
              "      <th>DAA</th>\n",
              "      <th>AFL</th>\n",
              "      <th>OE</th>\n",
              "      <th>PE</th>\n",
              "      <th>Name</th>\n",
              "      <th>Sex</th>\n",
              "      <th>Course</th>\n",
              "      <th>Branch</th>\n",
              "      <th>Address</th>\n",
              "      <th>EAMCET RANK</th>\n",
              "    </tr>\n",
              "  </thead>\n",
              "  <tbody>\n",
              "    <tr>\n",
              "      <th>12</th>\n",
              "      <td>Y20CS013</td>\n",
              "      <td>13.0</td>\n",
              "      <td>24.0</td>\n",
              "      <td>10.0</td>\n",
              "      <td>17.0</td>\n",
              "      <td>10.0</td>\n",
              "      <td>BANDLA BHAVITHA</td>\n",
              "      <td>F</td>\n",
              "      <td>B.Tech</td>\n",
              "      <td>CSE</td>\n",
              "      <td>NARASARAOPET</td>\n",
              "      <td>3456</td>\n",
              "    </tr>\n",
              "  </tbody>\n",
              "</table>\n",
              "</div>\n",
              "      <button class=\"colab-df-convert\" onclick=\"convertToInteractive('df-e6e528e1-bdc7-483e-ab96-3fdd6991ac5d')\"\n",
              "              title=\"Convert this dataframe to an interactive table.\"\n",
              "              style=\"display:none;\">\n",
              "        \n",
              "  <svg xmlns=\"http://www.w3.org/2000/svg\" height=\"24px\"viewBox=\"0 0 24 24\"\n",
              "       width=\"24px\">\n",
              "    <path d=\"M0 0h24v24H0V0z\" fill=\"none\"/>\n",
              "    <path d=\"M18.56 5.44l.94 2.06.94-2.06 2.06-.94-2.06-.94-.94-2.06-.94 2.06-2.06.94zm-11 1L8.5 8.5l.94-2.06 2.06-.94-2.06-.94L8.5 2.5l-.94 2.06-2.06.94zm10 10l.94 2.06.94-2.06 2.06-.94-2.06-.94-.94-2.06-.94 2.06-2.06.94z\"/><path d=\"M17.41 7.96l-1.37-1.37c-.4-.4-.92-.59-1.43-.59-.52 0-1.04.2-1.43.59L10.3 9.45l-7.72 7.72c-.78.78-.78 2.05 0 2.83L4 21.41c.39.39.9.59 1.41.59.51 0 1.02-.2 1.41-.59l7.78-7.78 2.81-2.81c.8-.78.8-2.07 0-2.86zM5.41 20L4 18.59l7.72-7.72 1.47 1.35L5.41 20z\"/>\n",
              "  </svg>\n",
              "      </button>\n",
              "      \n",
              "  <style>\n",
              "    .colab-df-container {\n",
              "      display:flex;\n",
              "      flex-wrap:wrap;\n",
              "      gap: 12px;\n",
              "    }\n",
              "\n",
              "    .colab-df-convert {\n",
              "      background-color: #E8F0FE;\n",
              "      border: none;\n",
              "      border-radius: 50%;\n",
              "      cursor: pointer;\n",
              "      display: none;\n",
              "      fill: #1967D2;\n",
              "      height: 32px;\n",
              "      padding: 0 0 0 0;\n",
              "      width: 32px;\n",
              "    }\n",
              "\n",
              "    .colab-df-convert:hover {\n",
              "      background-color: #E2EBFA;\n",
              "      box-shadow: 0px 1px 2px rgba(60, 64, 67, 0.3), 0px 1px 3px 1px rgba(60, 64, 67, 0.15);\n",
              "      fill: #174EA6;\n",
              "    }\n",
              "\n",
              "    [theme=dark] .colab-df-convert {\n",
              "      background-color: #3B4455;\n",
              "      fill: #D2E3FC;\n",
              "    }\n",
              "\n",
              "    [theme=dark] .colab-df-convert:hover {\n",
              "      background-color: #434B5C;\n",
              "      box-shadow: 0px 1px 3px 1px rgba(0, 0, 0, 0.15);\n",
              "      filter: drop-shadow(0px 1px 2px rgba(0, 0, 0, 0.3));\n",
              "      fill: #FFFFFF;\n",
              "    }\n",
              "  </style>\n",
              "\n",
              "      <script>\n",
              "        const buttonEl =\n",
              "          document.querySelector('#df-e6e528e1-bdc7-483e-ab96-3fdd6991ac5d button.colab-df-convert');\n",
              "        buttonEl.style.display =\n",
              "          google.colab.kernel.accessAllowed ? 'block' : 'none';\n",
              "\n",
              "        async function convertToInteractive(key) {\n",
              "          const element = document.querySelector('#df-e6e528e1-bdc7-483e-ab96-3fdd6991ac5d');\n",
              "          const dataTable =\n",
              "            await google.colab.kernel.invokeFunction('convertToInteractive',\n",
              "                                                     [key], {});\n",
              "          if (!dataTable) return;\n",
              "\n",
              "          const docLinkHtml = 'Like what you see? Visit the ' +\n",
              "            '<a target=\"_blank\" href=https://colab.research.google.com/notebooks/data_table.ipynb>data table notebook</a>'\n",
              "            + ' to learn more about interactive tables.';\n",
              "          element.innerHTML = '';\n",
              "          dataTable['output_type'] = 'display_data';\n",
              "          await google.colab.output.renderOutput(dataTable, element);\n",
              "          const docLink = document.createElement('div');\n",
              "          docLink.innerHTML = docLinkHtml;\n",
              "          element.appendChild(docLink);\n",
              "        }\n",
              "      </script>\n",
              "    </div>\n",
              "  </div>\n",
              "  "
            ]
          },
          "metadata": {},
          "execution_count": 41
        }
      ]
    },
    {
      "cell_type": "markdown",
      "source": [
        "5.\tDisplay the names and EAMCET ranks of the students who got minimum 12 marks in all courses."
      ],
      "metadata": {
        "id": "aF0zRoMdFGIl"
      }
    },
    {
      "cell_type": "code",
      "source": [
        "p=d_new3[(d_new3['AFL']>10) & (d_new3['CN']>10) & (d_new3['DAA']>10) & (d_new3['OE']>10) & (d_new3['PE']>10)]\n",
        "p.filter(['Name','EAMCET RANK'])"
      ],
      "metadata": {
        "colab": {
          "base_uri": "https://localhost:8080/",
          "height": 81
        },
        "id": "zpTgbudGFAP-",
        "outputId": "077c41d1-0908-47b5-fec8-fbe76faf05f3"
      },
      "execution_count": 42,
      "outputs": [
        {
          "output_type": "execute_result",
          "data": {
            "text/plain": [
              "              Name  EAMCET RANK\n",
              "7  APPANA HEMA SRI         1201"
            ],
            "text/html": [
              "\n",
              "  <div id=\"df-81f2533e-a44c-47bc-b6b1-bf34daba3fb1\">\n",
              "    <div class=\"colab-df-container\">\n",
              "      <div>\n",
              "<style scoped>\n",
              "    .dataframe tbody tr th:only-of-type {\n",
              "        vertical-align: middle;\n",
              "    }\n",
              "\n",
              "    .dataframe tbody tr th {\n",
              "        vertical-align: top;\n",
              "    }\n",
              "\n",
              "    .dataframe thead th {\n",
              "        text-align: right;\n",
              "    }\n",
              "</style>\n",
              "<table border=\"1\" class=\"dataframe\">\n",
              "  <thead>\n",
              "    <tr style=\"text-align: right;\">\n",
              "      <th></th>\n",
              "      <th>Name</th>\n",
              "      <th>EAMCET RANK</th>\n",
              "    </tr>\n",
              "  </thead>\n",
              "  <tbody>\n",
              "    <tr>\n",
              "      <th>7</th>\n",
              "      <td>APPANA HEMA SRI</td>\n",
              "      <td>1201</td>\n",
              "    </tr>\n",
              "  </tbody>\n",
              "</table>\n",
              "</div>\n",
              "      <button class=\"colab-df-convert\" onclick=\"convertToInteractive('df-81f2533e-a44c-47bc-b6b1-bf34daba3fb1')\"\n",
              "              title=\"Convert this dataframe to an interactive table.\"\n",
              "              style=\"display:none;\">\n",
              "        \n",
              "  <svg xmlns=\"http://www.w3.org/2000/svg\" height=\"24px\"viewBox=\"0 0 24 24\"\n",
              "       width=\"24px\">\n",
              "    <path d=\"M0 0h24v24H0V0z\" fill=\"none\"/>\n",
              "    <path d=\"M18.56 5.44l.94 2.06.94-2.06 2.06-.94-2.06-.94-.94-2.06-.94 2.06-2.06.94zm-11 1L8.5 8.5l.94-2.06 2.06-.94-2.06-.94L8.5 2.5l-.94 2.06-2.06.94zm10 10l.94 2.06.94-2.06 2.06-.94-2.06-.94-.94-2.06-.94 2.06-2.06.94z\"/><path d=\"M17.41 7.96l-1.37-1.37c-.4-.4-.92-.59-1.43-.59-.52 0-1.04.2-1.43.59L10.3 9.45l-7.72 7.72c-.78.78-.78 2.05 0 2.83L4 21.41c.39.39.9.59 1.41.59.51 0 1.02-.2 1.41-.59l7.78-7.78 2.81-2.81c.8-.78.8-2.07 0-2.86zM5.41 20L4 18.59l7.72-7.72 1.47 1.35L5.41 20z\"/>\n",
              "  </svg>\n",
              "      </button>\n",
              "      \n",
              "  <style>\n",
              "    .colab-df-container {\n",
              "      display:flex;\n",
              "      flex-wrap:wrap;\n",
              "      gap: 12px;\n",
              "    }\n",
              "\n",
              "    .colab-df-convert {\n",
              "      background-color: #E8F0FE;\n",
              "      border: none;\n",
              "      border-radius: 50%;\n",
              "      cursor: pointer;\n",
              "      display: none;\n",
              "      fill: #1967D2;\n",
              "      height: 32px;\n",
              "      padding: 0 0 0 0;\n",
              "      width: 32px;\n",
              "    }\n",
              "\n",
              "    .colab-df-convert:hover {\n",
              "      background-color: #E2EBFA;\n",
              "      box-shadow: 0px 1px 2px rgba(60, 64, 67, 0.3), 0px 1px 3px 1px rgba(60, 64, 67, 0.15);\n",
              "      fill: #174EA6;\n",
              "    }\n",
              "\n",
              "    [theme=dark] .colab-df-convert {\n",
              "      background-color: #3B4455;\n",
              "      fill: #D2E3FC;\n",
              "    }\n",
              "\n",
              "    [theme=dark] .colab-df-convert:hover {\n",
              "      background-color: #434B5C;\n",
              "      box-shadow: 0px 1px 3px 1px rgba(0, 0, 0, 0.15);\n",
              "      filter: drop-shadow(0px 1px 2px rgba(0, 0, 0, 0.3));\n",
              "      fill: #FFFFFF;\n",
              "    }\n",
              "  </style>\n",
              "\n",
              "      <script>\n",
              "        const buttonEl =\n",
              "          document.querySelector('#df-81f2533e-a44c-47bc-b6b1-bf34daba3fb1 button.colab-df-convert');\n",
              "        buttonEl.style.display =\n",
              "          google.colab.kernel.accessAllowed ? 'block' : 'none';\n",
              "\n",
              "        async function convertToInteractive(key) {\n",
              "          const element = document.querySelector('#df-81f2533e-a44c-47bc-b6b1-bf34daba3fb1');\n",
              "          const dataTable =\n",
              "            await google.colab.kernel.invokeFunction('convertToInteractive',\n",
              "                                                     [key], {});\n",
              "          if (!dataTable) return;\n",
              "\n",
              "          const docLinkHtml = 'Like what you see? Visit the ' +\n",
              "            '<a target=\"_blank\" href=https://colab.research.google.com/notebooks/data_table.ipynb>data table notebook</a>'\n",
              "            + ' to learn more about interactive tables.';\n",
              "          element.innerHTML = '';\n",
              "          dataTable['output_type'] = 'display_data';\n",
              "          await google.colab.output.renderOutput(dataTable, element);\n",
              "          const docLink = document.createElement('div');\n",
              "          docLink.innerHTML = docLinkHtml;\n",
              "          element.appendChild(docLink);\n",
              "        }\n",
              "      </script>\n",
              "    </div>\n",
              "  </div>\n",
              "  "
            ]
          },
          "metadata": {},
          "execution_count": 42
        }
      ]
    },
    {
      "cell_type": "markdown",
      "source": [
        "6.\tCalculate mean value of all the subject’s marks."
      ],
      "metadata": {
        "id": "ZB296rWfFUqp"
      }
    },
    {
      "cell_type": "code",
      "source": [
        "d_new3['avg']=d_new3[['CN','AFL','OE','PE','DAA']].mean(axis=1)\n",
        "print(d_new3.filter(['Regd.No','avg']))"
      ],
      "metadata": {
        "colab": {
          "base_uri": "https://localhost:8080/"
        },
        "id": "QAIgbeqIFOtK",
        "outputId": "87d00a41-c25d-448b-cc03-930c31382811"
      },
      "execution_count": 43,
      "outputs": [
        {
          "output_type": "stream",
          "name": "stdout",
          "text": [
            "     Regd.No        avg\n",
            "0   Y20CS001  12.800000\n",
            "1   Y20CS002  13.600000\n",
            "2   Y20CS003  17.750000\n",
            "3   Y20CS004  13.666667\n",
            "4   Y20CS005  14.800000\n",
            "5   Y20CS006  14.400000\n",
            "6   Y20CS007  12.250000\n",
            "7   Y20CS008  14.800000\n",
            "8   Y20CS009  13.000000\n",
            "9   Y20CS010  11.800000\n",
            "10  Y20CS011  13.000000\n",
            "11  Y20CS012  13.250000\n",
            "12  Y20CS013  14.800000\n",
            "13  Y20CS014  13.200000\n",
            "14  Y20CS015  13.000000\n",
            "15  Y20IT001  13.250000\n",
            "16  Y20IT002  14.000000\n",
            "17  Y20IT003  14.000000\n",
            "18  Y20IT004  15.666667\n",
            "19  Y20IT005  16.250000\n",
            "20  Y20IT006  13.250000\n",
            "21  Y20IT007  11.250000\n",
            "22  Y20IT008  39.750000\n",
            "23  Y20IT009  15.000000\n",
            "24  Y20IT010  11.333333\n",
            "25  Y20IT011  14.750000\n",
            "26  Y20IT012  15.500000\n",
            "27  Y20IT013  11.666667\n",
            "28  Y20IT014  11.750000\n",
            "29  Y20IT015  14.750000\n"
          ]
        }
      ]
    },
    {
      "cell_type": "code",
      "source": [],
      "metadata": {
        "id": "nl7C-V3uFcZ_"
      },
      "execution_count": null,
      "outputs": []
    }
  ]
}